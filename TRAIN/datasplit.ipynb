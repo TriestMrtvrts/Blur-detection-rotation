{
 "cells": [
  {
   "cell_type": "code",
   "execution_count": 1,
   "metadata": {},
   "outputs": [
    {
     "data": {
      "application/vnd.jupyter.widget-view+json": {
       "model_id": "8148824d2d814ca1892d0797610cdf12",
       "version_major": 2,
       "version_minor": 0
      },
      "text/plain": [
       "to_train:   0%|          | 0/8609 [00:00<?, ?it/s]"
      ]
     },
     "metadata": {},
     "output_type": "display_data"
    },
    {
     "data": {
      "application/vnd.jupyter.widget-view+json": {
       "model_id": "028618845e7b4d71897a95cc28610cd0",
       "version_major": 2,
       "version_minor": 0
      },
      "text/plain": [
       "to_test:   0%|          | 0/1520 [00:00<?, ?it/s]"
      ]
     },
     "metadata": {},
     "output_type": "display_data"
    }
   ],
   "source": [
    "import os\n",
    "import random\n",
    "import shutil\n",
    "from tqdm.notebook import tqdm_notebook as tqdm\n",
    "\n",
    "from resize import resize\n",
    "\n",
    "def split_folder_images(input_folder, output_folder, train_ratio):\n",
    "    # Create train and test folders\n",
    "    train_folder = os.path.join(output_folder, 'train')\n",
    "    test_folder = os.path.join(output_folder, 'test')\n",
    "    os.makedirs(train_folder, exist_ok=True)\n",
    "    os.makedirs(test_folder, exist_ok=True)\n",
    "    \n",
    "    # Get all image files in the input folder\n",
    "    image_files = [f for f in os.listdir(input_folder) if f.endswith('.jpg') or f.endswith('.png')]\n",
    "    \n",
    "    # Shuffle the image files randomly\n",
    "    random.shuffle(image_files)\n",
    "    \n",
    "    # Calculate the split index based on the train ratio\n",
    "    split_index = int(len(image_files) * train_ratio)\n",
    "    \n",
    "    # Move files to train folder\n",
    "    for image_file in tqdm(image_files[:split_index], desc='to_train'):\n",
    "        source_path = os.path.join(input_folder, image_file)\n",
    "        destination_path = os.path.join(train_folder, image_file)\n",
    "\n",
    "        img = resize(source_path, size=224)\n",
    "        img.save(destination_path)\n",
    "        #shutil.copy(source_path, destination_path)\n",
    "    \n",
    "    # Move files to test folder\n",
    "    for image_file in tqdm(image_files[split_index:], desc='to_test'):\n",
    "        source_path = os.path.join(input_folder, image_file)\n",
    "        destination_path = os.path.join(test_folder, image_file)\n",
    "\n",
    "        img = resize(source_path, size=224)\n",
    "        img.save(destination_path)\n",
    "        #shutil.copy(source_path, destination_path)\n",
    "\n",
    "# Example usage\n",
    "input_folder = './DATASET_init'  # Replace with the path to your input folder containing images\n",
    "output_folder = './data224'  # Replace with the path to the desired output folder\n",
    "train_ratio = 0.85  # Specify the train ratio (e.g., 0.8 for 80% train and 20% test)\n",
    "split_folder_images(input_folder, output_folder, train_ratio)"
   ]
  },
  {
   "cell_type": "code",
   "execution_count": null,
   "metadata": {},
   "outputs": [],
   "source": []
  }
 ],
 "metadata": {
  "kernelspec": {
   "display_name": "Python 3",
   "language": "python",
   "name": "python3"
  },
  "language_info": {
   "codemirror_mode": {
    "name": "ipython",
    "version": 3
   },
   "file_extension": ".py",
   "mimetype": "text/x-python",
   "name": "python",
   "nbconvert_exporter": "python",
   "pygments_lexer": "ipython3",
   "version": "3.11.4"
  },
  "orig_nbformat": 4
 },
 "nbformat": 4,
 "nbformat_minor": 2
}
